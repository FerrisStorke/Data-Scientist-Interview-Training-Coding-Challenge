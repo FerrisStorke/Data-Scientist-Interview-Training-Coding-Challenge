{
 "cells": [
  {
   "cell_type": "markdown",
   "id": "296d91d0",
   "metadata": {},
   "source": [
    "# Module \"Data Scientist Interview Trainig\" Coding Challenge"
   ]
  },
  {
   "cell_type": "markdown",
   "id": "5a938f90",
   "metadata": {},
   "source": [
    "## Task 1"
   ]
  },
  {
   "cell_type": "markdown",
   "id": "cfd587e5",
   "metadata": {},
   "source": [
    "### Import Modules"
   ]
  },
  {
   "cell_type": "code",
   "execution_count": 1,
   "id": "2631169d",
   "metadata": {},
   "outputs": [],
   "source": [
    "import os\n",
    "import pandas as pd\n",
    "import numpy as np\n",
    "\n",
    "from sklearn.preprocessing import StandardScaler\n",
    "\n",
    "from sklearn.model_selection import train_test_split\n",
    "\n",
    "from sklearn.linear_model import LogisticRegression\n",
    "from sklearn.svm import LinearSVC\n",
    "from sklearn.tree import DecisionTreeClassifier\n",
    "from sklearn.ensemble import RandomForestClassifier\n",
    "from sklearn.naive_bayes import GaussianNB\n",
    "from sklearn.neighbors import KNeighborsClassifier\n",
    "\n",
    "from sklearn.metrics import accuracy_score, precision_score, recall_score\n",
    "import matplotlib.pyplot as plt\n",
    "\n",
    "import statsmodels.api as sm"
   ]
  },
  {
   "cell_type": "markdown",
   "id": "1c2f6600",
   "metadata": {},
   "source": [
    "### Read in files"
   ]
  },
  {
   "cell_type": "code",
   "execution_count": 2,
   "id": "998d66ad",
   "metadata": {},
   "outputs": [],
   "source": [
    "# Define predictors and target variable\n",
    "rootdir = os.getcwd()\n",
    "X_orig = pd.read_csv(f\"\"\"{rootdir}/Data/data.csv\"\"\", header = None, delim_whitespace = True)\n",
    "y = pd.read_csv(f\"\"\"{rootdir}/Data/target.csv\"\"\", header = None)"
   ]
  },
  {
   "cell_type": "code",
   "execution_count": 3,
   "id": "cd3153f6",
   "metadata": {},
   "outputs": [
    {
     "data": {
      "text/plain": [
       "1.0    5018\n",
       "0.0    4982\n",
       "dtype: int64"
      ]
     },
     "execution_count": 3,
     "metadata": {},
     "output_type": "execute_result"
    }
   ],
   "source": [
    "# Check values of target variable\n",
    "y.value_counts()"
   ]
  },
  {
   "cell_type": "markdown",
   "id": "583a7e5f",
   "metadata": {},
   "source": [
    "We see that the target variable is binary (i.e. only takes the values 0 or 1) and almost exactly half of the observations are in class 0 and the other in 1. Appropriate classifiers from the scikit package would be:\n",
    "- Logistic regression\n",
    "- Support Vector Machines\n",
    "- Decision Trees\n",
    "- Random Forest\n",
    "- Naive Bayes\n",
    "- K-Nearest Neighbors\n",
    "\n",
    "In the following, we will prepare the data, create a training and test split and fit the different models. Finally, we will compare the performance of the different models."
   ]
  },
  {
   "cell_type": "code",
   "execution_count": 4,
   "id": "05aa0cfb",
   "metadata": {},
   "outputs": [],
   "source": [
    "# For numerical stability of the predictors, we apply a normalisation operation\n",
    "standardizer = StandardScaler()\n",
    "X = standardizer.fit_transform(X_orig)"
   ]
  },
  {
   "cell_type": "markdown",
   "id": "18455938",
   "metadata": {},
   "source": [
    "### Create Training and Test Set (80/20 Split)"
   ]
  },
  {
   "cell_type": "code",
   "execution_count": 5,
   "id": "c6fdbd5e",
   "metadata": {},
   "outputs": [],
   "source": [
    "# Split the dataframe into 75% training data and 25% testing data\n",
    "X_train, X_test, y_train, y_test = train_test_split(X, y, test_size= 0.25, random_state=0)"
   ]
  },
  {
   "cell_type": "code",
   "execution_count": 6,
   "id": "199de91c",
   "metadata": {},
   "outputs": [
    {
     "name": "stdout",
     "output_type": "stream",
     "text": [
      "Training set size:  (7500, 130)\n",
      "Test set size:  (2500, 130)\n"
     ]
    }
   ],
   "source": [
    "# Print size of both sets to ensure all observations are included\n",
    "print(\"Training set size: \", X_train.shape)\n",
    "print(\"Test set size: \", X_test.shape)"
   ]
  },
  {
   "cell_type": "markdown",
   "id": "22578e30",
   "metadata": {},
   "source": [
    "### Fit Classifiers"
   ]
  },
  {
   "cell_type": "code",
   "execution_count": 7,
   "id": "c078d4f7",
   "metadata": {},
   "outputs": [],
   "source": [
    "# Create a dictionary and store all models in it\n",
    "models = {}\n",
    "\n",
    "# Logistic Regression\n",
    "models['Logistic Regression'] = LogisticRegression()\n",
    "\n",
    "# Support Vector Machines\n",
    "models['Support Vector Machines'] = LinearSVC()\n",
    "\n",
    "# Decision Trees\n",
    "models['Decision Trees'] = DecisionTreeClassifier()\n",
    "\n",
    "# Random Forest\n",
    "models['Random Forest'] = RandomForestClassifier()\n",
    "\n",
    "# Naive Bayes\n",
    "models['Naive Bayes'] = GaussianNB()\n",
    "\n",
    "# K-Nearest Neighbors\n",
    "models['K-Nearest Neighbor'] = KNeighborsClassifier()"
   ]
  },
  {
   "cell_type": "code",
   "execution_count": 8,
   "id": "903557dd",
   "metadata": {},
   "outputs": [
    {
     "name": "stderr",
     "output_type": "stream",
     "text": [
      "/Users/ferris/miniforge3/lib/python3.9/site-packages/sklearn/svm/_base.py:985: ConvergenceWarning: Liblinear failed to converge, increase the number of iterations.\n",
      "  warnings.warn(\"Liblinear failed to converge, increase \"\n"
     ]
    }
   ],
   "source": [
    "# Create dictionaries to store evaluation metrics of the different models\n",
    "accuracy, precision, recall = {}, {}, {}\n",
    "\n",
    "# Loop through all models, fit them, make predictions, and calculate evaluation metrics\n",
    "for key in models.keys():\n",
    "    \n",
    "    # Fit the classifier model\n",
    "    models[key].fit(X_train, np.ravel(y_train))\n",
    "    \n",
    "    # Prediction \n",
    "    predictions = models[key].predict(X_test)\n",
    "    \n",
    "    # Calculate Accuracy, Precision and Recall Metrics\n",
    "    accuracy[key] = accuracy_score(predictions, y_test)\n",
    "    precision[key] = precision_score(predictions, y_test)\n",
    "    recall[key] = recall_score(predictions, y_test)"
   ]
  },
  {
   "cell_type": "code",
   "execution_count": 9,
   "id": "72a876a2",
   "metadata": {},
   "outputs": [
    {
     "data": {
      "text/html": [
       "<div>\n",
       "<style scoped>\n",
       "    .dataframe tbody tr th:only-of-type {\n",
       "        vertical-align: middle;\n",
       "    }\n",
       "\n",
       "    .dataframe tbody tr th {\n",
       "        vertical-align: top;\n",
       "    }\n",
       "\n",
       "    .dataframe thead th {\n",
       "        text-align: right;\n",
       "    }\n",
       "</style>\n",
       "<table border=\"1\" class=\"dataframe\">\n",
       "  <thead>\n",
       "    <tr style=\"text-align: right;\">\n",
       "      <th></th>\n",
       "      <th>Accuracy</th>\n",
       "      <th>Precision</th>\n",
       "      <th>Recall</th>\n",
       "    </tr>\n",
       "  </thead>\n",
       "  <tbody>\n",
       "    <tr>\n",
       "      <th>Logistic Regression</th>\n",
       "      <td>0.8404</td>\n",
       "      <td>0.868955</td>\n",
       "      <td>0.828253</td>\n",
       "    </tr>\n",
       "    <tr>\n",
       "      <th>Support Vector Machines</th>\n",
       "      <td>0.8396</td>\n",
       "      <td>0.874415</td>\n",
       "      <td>0.823659</td>\n",
       "    </tr>\n",
       "    <tr>\n",
       "      <th>Decision Trees</th>\n",
       "      <td>0.8816</td>\n",
       "      <td>0.878315</td>\n",
       "      <td>0.889415</td>\n",
       "    </tr>\n",
       "    <tr>\n",
       "      <th>Random Forest</th>\n",
       "      <td>0.9368</td>\n",
       "      <td>0.931357</td>\n",
       "      <td>0.944620</td>\n",
       "    </tr>\n",
       "    <tr>\n",
       "      <th>Naive Bayes</th>\n",
       "      <td>0.8356</td>\n",
       "      <td>0.854914</td>\n",
       "      <td>0.829674</td>\n",
       "    </tr>\n",
       "    <tr>\n",
       "      <th>K-Nearest Neighbor</th>\n",
       "      <td>0.7908</td>\n",
       "      <td>0.807332</td>\n",
       "      <td>0.789474</td>\n",
       "    </tr>\n",
       "  </tbody>\n",
       "</table>\n",
       "</div>"
      ],
      "text/plain": [
       "                         Accuracy  Precision    Recall\n",
       "Logistic Regression        0.8404   0.868955  0.828253\n",
       "Support Vector Machines    0.8396   0.874415  0.823659\n",
       "Decision Trees             0.8816   0.878315  0.889415\n",
       "Random Forest              0.9368   0.931357  0.944620\n",
       "Naive Bayes                0.8356   0.854914  0.829674\n",
       "K-Nearest Neighbor         0.7908   0.807332  0.789474"
      ]
     },
     "execution_count": 9,
     "metadata": {},
     "output_type": "execute_result"
    }
   ],
   "source": [
    "# Store metrics in a dataframe and display it\n",
    "df_model = pd.DataFrame(index = models.keys(), columns = ['Accuracy', 'Precision', 'Recall'])\n",
    "df_model['Accuracy'] = accuracy.values()\n",
    "df_model['Precision'] = precision.values()\n",
    "df_model['Recall'] = recall.values()\n",
    "\n",
    "df_model"
   ]
  },
  {
   "cell_type": "code",
   "execution_count": 10,
   "id": "48455006",
   "metadata": {},
   "outputs": [
    {
     "data": {
      "image/png": "[encoded data removed]",
      "text/plain": [
       "<Figure size 432x288 with 1 Axes>"
      ]
     },
     "metadata": {
      "needs_background": "light"
     },
     "output_type": "display_data"
    }
   ],
   "source": [
    "# Create a bar chart to compare the models' performance\n",
    "ax  = df_model.plot.bar(rot = 45)\n",
    "ax.legend(ncol = len(models.keys()), bbox_to_anchor = (0, 1), loc = 'lower left', prop = {'size': 14})\n",
    "plt.tight_layout()"
   ]
  },
  {
   "cell_type": "markdown",
   "id": "2f45b08b",
   "metadata": {},
   "source": [
    "It is important to note that depending on the problem at hand, a high recall might be more useful than a high accuracy.\n",
    "\n",
    "Since we do not have any details about the predictors or the target variable, and because the Random Forest model performs the best in all three metrics, it would be the most useful model to use in this case."
   ]
  },
  {
   "cell_type": "markdown",
   "id": "4310dbc9",
   "metadata": {},
   "source": [
    "## Task 2"
   ]
  },
  {
   "cell_type": "markdown",
   "id": "d38def62",
   "metadata": {},
   "source": [
    "#### Reduce features"
   ]
  },
  {
   "cell_type": "markdown",
   "id": "5424777f",
   "metadata": {},
   "source": [
    "All of the above models were fit using all predictors. However, it is possible that not all of them actually have a significant impact on the target variable. In order to verify this, we will evaluate the p-value of each predictor."
   ]
  },
  {
   "cell_type": "code",
   "execution_count": 11,
   "id": "346cc4c0",
   "metadata": {},
   "outputs": [
    {
     "name": "stdout",
     "output_type": "stream",
     "text": [
      "                 Generalized Linear Model Regression Results                  \n",
      "==============================================================================\n",
      "Dep. Variable:                      0   No. Observations:                10000\n",
      "Model:                            GLM   Df Residuals:                     9877\n",
      "Model Family:                Binomial   Df Model:                          122\n",
      "Link Function:                  logit   Scale:                          1.0000\n",
      "Method:                          IRLS   Log-Likelihood:                -3863.1\n",
      "Date:                Tue, 14 Sep 2021   Deviance:                       7726.1\n",
      "Time:                        17:48:42   Pearson chi2:                 2.14e+04\n",
      "No. Iterations:                   100                                         \n",
      "Covariance Type:            nonrobust                                         \n",
      "==============================================================================\n",
      "                 coef    std err          z      P>|z|      [0.025      0.975]\n",
      "------------------------------------------------------------------------------\n",
      "0              0.0300      0.029      1.030      0.303      -0.027       0.087\n",
      "1              0.0115      0.028      0.405      0.685      -0.044       0.067\n",
      "2             -0.0040      0.029     -0.139      0.889      -0.060       0.052\n",
      "3             -0.0460      0.029     -1.605      0.109      -0.102       0.010\n",
      "4             -0.0170      0.029     -0.584      0.559      -0.074       0.040\n",
      "5            -23.5183     13.403     -1.755      0.079     -49.787       2.751\n",
      "6             -0.0260      0.029     -0.888      0.374      -0.083       0.031\n",
      "7              0.2562      0.036      7.206      0.000       0.187       0.326\n",
      "8             -0.0099      0.029     -0.343      0.732      -0.066       0.047\n",
      "9             -0.1671      0.130     -1.285      0.199      -0.422       0.088\n",
      "10            -0.0138      0.029     -0.478      0.633      -0.070       0.043\n",
      "11            -0.0328      0.029     -1.147      0.251      -0.089       0.023\n",
      "12             0.0004      0.029      0.016      0.988      -0.056       0.057\n",
      "13            -0.0527      0.029     -1.847      0.065      -0.109       0.003\n",
      "14            -0.0161      0.028     -0.564      0.573      -0.072       0.040\n",
      "15             0.0073      0.029      0.250      0.802      -0.050       0.064\n",
      "16             0.0191      0.029      0.661      0.509      -0.038       0.076\n",
      "17            -0.0251      0.028     -0.882      0.378      -0.081       0.031\n",
      "18            -0.0207      0.029     -0.713      0.476      -0.078       0.036\n",
      "19             0.0360      0.029      1.248      0.212      -0.021       0.093\n",
      "20            -0.0010      0.029     -0.034      0.973      -0.057       0.055\n",
      "21            -0.0375      0.029     -1.310      0.190      -0.094       0.019\n",
      "22             0.0122      0.029      0.424      0.672      -0.044       0.069\n",
      "23             0.0893      0.028      3.161      0.002       0.034       0.145\n",
      "24            -0.0226      0.029     -0.774      0.439      -0.080       0.035\n",
      "25            -0.0179      0.029     -0.621      0.534      -0.074       0.039\n",
      "26            -0.0175      0.029     -0.602      0.547      -0.074       0.039\n",
      "27             0.0248      0.028      0.871      0.384      -0.031       0.081\n",
      "28            -0.0165      0.028     -0.582      0.560      -0.072       0.039\n",
      "29            -0.0454      0.029     -1.564      0.118      -0.102       0.011\n",
      "30             0.0014      0.029      0.050      0.961      -0.055       0.058\n",
      "31             0.0813      0.082      0.989      0.323      -0.080       0.242\n",
      "32            -0.0378      0.029     -1.326      0.185      -0.094       0.018\n",
      "33             5.9429      3.470      1.712      0.087      -0.859      12.745\n",
      "34            -0.0226      0.029     -0.785      0.432      -0.079       0.034\n",
      "35             0.0252      0.028      0.888      0.374      -0.030       0.081\n",
      "36            -0.0486      0.029     -1.680      0.093      -0.105       0.008\n",
      "37             0.0012      0.029      0.041      0.967      -0.056       0.058\n",
      "38             0.0010      0.029      0.033      0.974      -0.056       0.058\n",
      "39            -0.0240      0.029     -0.837      0.403      -0.080       0.032\n",
      "40             0.0032      0.029      0.110      0.912      -0.054       0.060\n",
      "41            -0.0325      0.029     -1.124      0.261      -0.089       0.024\n",
      "42             0.0036      0.029      0.124      0.902      -0.053       0.060\n",
      "43             0.0352      0.029      1.221      0.222      -0.021       0.092\n",
      "44            -0.0597      0.029     -2.074      0.038      -0.116      -0.003\n",
      "45            -0.0307      0.029     -1.056      0.291      -0.088       0.026\n",
      "46             0.0239      0.029      0.834      0.405      -0.032       0.080\n",
      "47            -0.0536      0.029     -1.827      0.068      -0.111       0.004\n",
      "48             0.0179      0.029      0.612      0.540      -0.039       0.075\n",
      "49             0.0109      0.029      0.375      0.707      -0.046       0.068\n",
      "50            -1.2061      0.751     -1.606      0.108      -2.678       0.266\n",
      "51             0.0269      0.029      0.935      0.350      -0.030       0.083\n",
      "52            -0.0116      0.029     -0.403      0.687      -0.068       0.045\n",
      "53            -0.0188      0.029     -0.655      0.513      -0.075       0.038\n",
      "54             0.4966      0.014     34.585      0.000       0.468       0.525\n",
      "55            -0.0075      0.029     -0.261      0.794      -0.064       0.049\n",
      "56             0.0343      0.029      1.197      0.231      -0.022       0.091\n",
      "57             0.0265      0.029      0.908      0.364      -0.031       0.084\n",
      "58            -0.0397      0.029     -1.388      0.165      -0.096       0.016\n",
      "59            -0.0462      0.028     -1.637      0.102      -0.102       0.009\n",
      "60             0.0230      0.029      0.801      0.423      -0.033       0.079\n",
      "61            -0.0400      0.029     -1.368      0.171      -0.097       0.017\n",
      "62            -0.0208      0.028     -0.730      0.466      -0.077       0.035\n",
      "63             0.0102      0.029      0.358      0.720      -0.046       0.066\n",
      "64            -0.7089      0.365     -1.943      0.052      -1.424       0.006\n",
      "65             0.0314      0.029      1.086      0.278      -0.025       0.088\n",
      "66            -0.0259      0.029     -0.902      0.367      -0.082       0.030\n",
      "67             0.0217      0.029      0.748      0.454      -0.035       0.078\n",
      "68            -0.0334      0.029     -1.163      0.245      -0.090       0.023\n",
      "69            -0.0269      0.029     -0.928      0.353      -0.084       0.030\n",
      "70             0.0047      0.029      0.164      0.870      -0.051       0.061\n",
      "71            -0.0445      0.200     -0.222      0.824      -0.437       0.348\n",
      "72             0.0063      0.029      0.220      0.826      -0.050       0.063\n",
      "73            -0.0497      0.029     -1.729      0.084      -0.106       0.007\n",
      "74             0.5776      0.177      3.270      0.001       0.231       0.924\n",
      "75             0.0301      0.029      1.053      0.292      -0.026       0.086\n",
      "76            -0.0168      0.029     -0.590      0.555      -0.073       0.039\n",
      "77            -0.0035      0.029     -0.121      0.903      -0.060       0.053\n",
      "78             0.0119      0.029      0.410      0.682      -0.045       0.069\n",
      "79            -0.0933      0.029     -3.177      0.001      -0.151      -0.036\n",
      "80             0.0282      0.029      0.979      0.328      -0.028       0.085\n",
      "81             0.0280      0.029      0.980      0.327      -0.028       0.084\n",
      "82            -0.1814      0.222     -0.818      0.413      -0.616       0.253\n",
      "83            -0.0642      0.029     -2.240      0.025      -0.120      -0.008\n",
      "84             0.0273      0.029      0.947      0.344      -0.029       0.084\n",
      "85            -0.1659      0.036     -4.605      0.000      -0.236      -0.095\n",
      "86            -0.0069      0.029     -0.236      0.813      -0.064       0.050\n",
      "87            -0.0006      0.029     -0.021      0.983      -0.058       0.057\n",
      "88             0.0023      0.029      0.080      0.936      -0.055       0.060\n",
      "89            -0.0201      0.029     -0.703      0.482      -0.076       0.036\n",
      "90            -0.0301      0.557     -0.054      0.957      -1.122       1.062\n",
      "91             0.0438      0.028      1.545      0.122      -0.012       0.099\n",
      "92             0.0283      0.029      0.989      0.323      -0.028       0.085\n",
      "93             0.2480      0.262      0.945      0.345      -0.266       0.762\n",
      "94            -0.0191      0.029     -0.665      0.506      -0.075       0.037\n",
      "95             0.0099      0.029      0.339      0.734      -0.047       0.067\n",
      "96            -0.0339      0.029     -1.171      0.242      -0.091       0.023\n",
      "97            -0.0118      0.029     -0.413      0.680      -0.068       0.044\n",
      "98             0.0097      0.029      0.333      0.739      -0.047       0.067\n",
      "99            -0.0079      0.029     -0.273      0.784      -0.064       0.049\n",
      "100           -0.0264      0.029     -0.918      0.359      -0.083       0.030\n",
      "101            0.0585      0.029      2.010      0.044       0.001       0.115\n",
      "102           -0.0359      0.029     -1.240      0.215      -0.093       0.021\n",
      "103            0.0230      0.029      0.797      0.426      -0.034       0.080\n",
      "104           -0.0340      0.029     -1.183      0.237      -0.090       0.022\n",
      "105            0.0078      0.029      0.274      0.784      -0.048       0.064\n",
      "106           -0.0295      0.029     -1.022      0.307      -0.086       0.027\n",
      "107           -0.0332      0.029     -1.153      0.249      -0.090       0.023\n",
      "108           -0.0031      0.029     -0.107      0.915      -0.059       0.053\n",
      "109            0.0137      0.029      0.468      0.640      -0.044       0.071\n",
      "110           -0.0703      0.029     -2.440      0.015      -0.127      -0.014\n",
      "111            0.0385      0.029      1.343      0.179      -0.018       0.095\n",
      "112            0.0138      0.029      0.471      0.637      -0.044       0.071\n",
      "113            0.0070      0.029      0.245      0.807      -0.049       0.063\n",
      "114           -0.0202      0.029     -0.693      0.488      -0.077       0.037\n",
      "115         -7.12e-05      0.029     -0.002      0.998      -0.056       0.056\n",
      "116           -0.0277      0.029     -0.967      0.334      -0.084       0.028\n",
      "117           -0.0222      0.029     -0.779      0.436      -0.078       0.034\n",
      "118           -0.0761      0.029     -2.663      0.008      -0.132      -0.020\n",
      "119           -0.0476      0.029     -1.649      0.099      -0.104       0.009\n",
      "120            0.0002      0.029      0.006      0.995      -0.056       0.056\n",
      "121           -0.0177      0.029     -0.614      0.539      -0.074       0.039\n",
      "122           -0.0108      0.029     -0.370      0.711      -0.068       0.047\n",
      "123           -0.0134      0.029     -0.465      0.642      -0.070       0.043\n",
      "124           -0.0270      0.029     -0.933      0.351      -0.084       0.030\n",
      "125           -0.0252      0.029     -0.881      0.378      -0.081       0.031\n",
      "126           -0.0390      0.028     -1.373      0.170      -0.095       0.017\n",
      "127           -0.0052      0.029     -0.182      0.856      -0.062       0.051\n",
      "128            0.0705      0.028      2.496      0.013       0.015       0.126\n",
      "129            0.0241      0.029      0.846      0.398      -0.032       0.080\n",
      "==============================================================================\n"
     ]
    }
   ],
   "source": [
    "# Create summary statistics of Generalised Linear Model (GLM)\n",
    "logit_model = sm.GLM(y, X_orig, family = sm.families.Binomial())\n",
    "result = logit_model.fit()\n",
    "print(result.summary())"
   ]
  },
  {
   "cell_type": "code",
   "execution_count": 12,
   "id": "68edecac",
   "metadata": {},
   "outputs": [],
   "source": [
    "# predictors with p-values < 0.05:\n",
    "# 7, 23, 44, 54, 74, 79, 83, 85, 101, 110, 118, 128"
   ]
  },
  {
   "cell_type": "code",
   "execution_count": 13,
   "id": "76527ca9",
   "metadata": {},
   "outputs": [],
   "source": [
    "# Create new dataframe containing only predictors with a p-value below 0.05 \n",
    "X_reduced = X_orig[[7, 23, 44, 54, 74, 79, 83, 85, 101, 110, 118, 128]]"
   ]
  },
  {
   "cell_type": "code",
   "execution_count": 14,
   "id": "cc748317",
   "metadata": {},
   "outputs": [
    {
     "data": {
      "text/plain": [
       "12"
      ]
     },
     "execution_count": 14,
     "metadata": {},
     "output_type": "execute_result"
    }
   ],
   "source": [
    "# Show how many predictors are included\n",
    "X_reduced.shape[1]"
   ]
  },
  {
   "cell_type": "code",
   "execution_count": 15,
   "id": "a06e937d",
   "metadata": {},
   "outputs": [],
   "source": [
    "# For numerical stability of the predictors, we apply a normalisation operation\n",
    "standardizer = StandardScaler()\n",
    "X_reduced = standardizer.fit_transform(X_reduced)"
   ]
  },
  {
   "cell_type": "code",
   "execution_count": 16,
   "id": "fad4d00e",
   "metadata": {},
   "outputs": [],
   "source": [
    "# Split the dataframe into 75% training data and 25% testing data\n",
    "X_reduced_train, X_reduced_test, y_train, y_test = train_test_split(X_reduced, y, test_size= 0.25, random_state=0)"
   ]
  },
  {
   "cell_type": "code",
   "execution_count": 17,
   "id": "301454ba",
   "metadata": {},
   "outputs": [],
   "source": [
    "# Create a dictionary and store all models in it\n",
    "models_reduced = {}\n",
    "\n",
    "# Logistic Regression\n",
    "models_reduced['Logistic Regression'] = LogisticRegression()\n",
    "\n",
    "# Support Vector Machines\n",
    "models_reduced['Support Vector Machines'] = LinearSVC()\n",
    "\n",
    "# Decision Trees\n",
    "models_reduced['Decision Trees'] = DecisionTreeClassifier()\n",
    "\n",
    "# Random Forest\n",
    "models_reduced['Random Forest'] = RandomForestClassifier()\n",
    "\n",
    "# Naive Bayes\n",
    "models_reduced['Naive Bayes'] = GaussianNB()\n",
    "\n",
    "# K-Nearest Neighbors\n",
    "models_reduced['K-Nearest Neighbor'] = KNeighborsClassifier()"
   ]
  },
  {
   "cell_type": "code",
   "execution_count": 18,
   "id": "340b903a",
   "metadata": {},
   "outputs": [
    {
     "name": "stderr",
     "output_type": "stream",
     "text": [
      "/Users/ferris/miniforge3/lib/python3.9/site-packages/sklearn/svm/_base.py:985: ConvergenceWarning: Liblinear failed to converge, increase the number of iterations.\n",
      "  warnings.warn(\"Liblinear failed to converge, increase \"\n"
     ]
    }
   ],
   "source": [
    "# Create dictionaries to store evaluation metrics of the different models\n",
    "accuracy, precision, recall = {}, {}, {}\n",
    "\n",
    "# Loop through all models, fit them, make predictions, and calculate evaluation metrics\n",
    "for key in models_reduced.keys():\n",
    "    \n",
    "    # Fit the classifier model\n",
    "    models_reduced[key].fit(X_reduced_train, np.ravel(y_train))\n",
    "    \n",
    "    # Prediction \n",
    "    predictions = models_reduced[key].predict(X_reduced_test)\n",
    "    \n",
    "    # Calculate Accuracy, Precision and Recall Metrics\n",
    "    accuracy[key] = accuracy_score(predictions, y_test)\n",
    "    precision[key] = precision_score(predictions, y_test)\n",
    "    recall[key] = recall_score(predictions, y_test)"
   ]
  },
  {
   "cell_type": "code",
   "execution_count": 19,
   "id": "848a15f9",
   "metadata": {},
   "outputs": [
    {
     "data": {
      "text/html": [
       "<div>\n",
       "<style scoped>\n",
       "    .dataframe tbody tr th:only-of-type {\n",
       "        vertical-align: middle;\n",
       "    }\n",
       "\n",
       "    .dataframe tbody tr th {\n",
       "        vertical-align: top;\n",
       "    }\n",
       "\n",
       "    .dataframe thead th {\n",
       "        text-align: right;\n",
       "    }\n",
       "</style>\n",
       "<table border=\"1\" class=\"dataframe\">\n",
       "  <thead>\n",
       "    <tr style=\"text-align: right;\">\n",
       "      <th></th>\n",
       "      <th>Accuracy</th>\n",
       "      <th>Precision</th>\n",
       "      <th>Recall</th>\n",
       "    </tr>\n",
       "  </thead>\n",
       "  <tbody>\n",
       "    <tr>\n",
       "      <th>Logistic Regression</th>\n",
       "      <td>0.7312</td>\n",
       "      <td>0.698128</td>\n",
       "      <td>0.758475</td>\n",
       "    </tr>\n",
       "    <tr>\n",
       "      <th>Support Vector Machines</th>\n",
       "      <td>0.7324</td>\n",
       "      <td>0.695788</td>\n",
       "      <td>0.761742</td>\n",
       "    </tr>\n",
       "    <tr>\n",
       "      <th>Decision Trees</th>\n",
       "      <td>0.8092</td>\n",
       "      <td>0.800312</td>\n",
       "      <td>0.822775</td>\n",
       "    </tr>\n",
       "    <tr>\n",
       "      <th>Random Forest</th>\n",
       "      <td>0.8736</td>\n",
       "      <td>0.824493</td>\n",
       "      <td>0.920732</td>\n",
       "    </tr>\n",
       "    <tr>\n",
       "      <th>Naive Bayes</th>\n",
       "      <td>0.6980</td>\n",
       "      <td>0.595944</td>\n",
       "      <td>0.763237</td>\n",
       "    </tr>\n",
       "    <tr>\n",
       "      <th>K-Nearest Neighbor</th>\n",
       "      <td>0.7636</td>\n",
       "      <td>0.735569</td>\n",
       "      <td>0.789121</td>\n",
       "    </tr>\n",
       "  </tbody>\n",
       "</table>\n",
       "</div>"
      ],
      "text/plain": [
       "                         Accuracy  Precision    Recall\n",
       "Logistic Regression        0.7312   0.698128  0.758475\n",
       "Support Vector Machines    0.7324   0.695788  0.761742\n",
       "Decision Trees             0.8092   0.800312  0.822775\n",
       "Random Forest              0.8736   0.824493  0.920732\n",
       "Naive Bayes                0.6980   0.595944  0.763237\n",
       "K-Nearest Neighbor         0.7636   0.735569  0.789121"
      ]
     },
     "execution_count": 19,
     "metadata": {},
     "output_type": "execute_result"
    }
   ],
   "source": [
    "# Store metrics in a dataframe and display it\n",
    "df_model_reduced = pd.DataFrame(index = models_reduced.keys(), columns = ['Accuracy', 'Precision', 'Recall'])\n",
    "df_model_reduced['Accuracy'] = accuracy.values()\n",
    "df_model_reduced['Precision'] = precision.values()\n",
    "df_model_reduced['Recall'] = recall.values()\n",
    "\n",
    "df_model_reduced"
   ]
  },
  {
   "cell_type": "code",
   "execution_count": 20,
   "id": "f8909e41",
   "metadata": {},
   "outputs": [
    {
     "data": {
      "image/png": "[encoded data removed]",
      "text/plain": [
       "<Figure size 432x288 with 1 Axes>"
      ]
     },
     "metadata": {
      "needs_background": "light"
     },
     "output_type": "display_data"
    }
   ],
   "source": [
    "# Create a bar chart to compare the models' performance\n",
    "ax  = df_model_reduced.plot.bar(rot = 45)\n",
    "ax.legend(ncol = len(models_reduced.keys()), bbox_to_anchor = (0, 1), loc = 'lower left', prop = {'size': 14})\n",
    "plt.tight_layout()"
   ]
  },
  {
   "cell_type": "code",
   "execution_count": 21,
   "id": "6fafb358",
   "metadata": {},
   "outputs": [
    {
     "data": {
      "text/html": [
       "<div>\n",
       "<style scoped>\n",
       "    .dataframe tbody tr th:only-of-type {\n",
       "        vertical-align: middle;\n",
       "    }\n",
       "\n",
       "    .dataframe tbody tr th {\n",
       "        vertical-align: top;\n",
       "    }\n",
       "\n",
       "    .dataframe thead th {\n",
       "        text-align: right;\n",
       "    }\n",
       "</style>\n",
       "<table border=\"1\" class=\"dataframe\">\n",
       "  <thead>\n",
       "    <tr style=\"text-align: right;\">\n",
       "      <th></th>\n",
       "      <th>Accuracy</th>\n",
       "      <th>Precision</th>\n",
       "      <th>Recall</th>\n",
       "    </tr>\n",
       "  </thead>\n",
       "  <tbody>\n",
       "    <tr>\n",
       "      <th>Logistic Regression</th>\n",
       "      <td>0.1092</td>\n",
       "      <td>0.170827</td>\n",
       "      <td>0.069778</td>\n",
       "    </tr>\n",
       "    <tr>\n",
       "      <th>Support Vector Machines</th>\n",
       "      <td>0.1072</td>\n",
       "      <td>0.178627</td>\n",
       "      <td>0.061917</td>\n",
       "    </tr>\n",
       "    <tr>\n",
       "      <th>Decision Trees</th>\n",
       "      <td>0.0724</td>\n",
       "      <td>0.078003</td>\n",
       "      <td>0.066641</td>\n",
       "    </tr>\n",
       "    <tr>\n",
       "      <th>Random Forest</th>\n",
       "      <td>0.0632</td>\n",
       "      <td>0.106864</td>\n",
       "      <td>0.023889</td>\n",
       "    </tr>\n",
       "    <tr>\n",
       "      <th>Naive Bayes</th>\n",
       "      <td>0.1376</td>\n",
       "      <td>0.258970</td>\n",
       "      <td>0.066438</td>\n",
       "    </tr>\n",
       "    <tr>\n",
       "      <th>K-Nearest Neighbor</th>\n",
       "      <td>0.0272</td>\n",
       "      <td>0.071763</td>\n",
       "      <td>0.000352</td>\n",
       "    </tr>\n",
       "  </tbody>\n",
       "</table>\n",
       "</div>"
      ],
      "text/plain": [
       "                         Accuracy  Precision    Recall\n",
       "Logistic Regression        0.1092   0.170827  0.069778\n",
       "Support Vector Machines    0.1072   0.178627  0.061917\n",
       "Decision Trees             0.0724   0.078003  0.066641\n",
       "Random Forest              0.0632   0.106864  0.023889\n",
       "Naive Bayes                0.1376   0.258970  0.066438\n",
       "K-Nearest Neighbor         0.0272   0.071763  0.000352"
      ]
     },
     "execution_count": 21,
     "metadata": {},
     "output_type": "execute_result"
    }
   ],
   "source": [
    "# Create dataframe that shows difference in model performance\n",
    "df_difference = df_model - df_model_reduced\n",
    "df_difference"
   ]
  },
  {
   "cell_type": "code",
   "execution_count": 22,
   "id": "9fd69a46",
   "metadata": {},
   "outputs": [
    {
     "data": {
      "image/png": "[encoded data removed]",
      "text/plain": [
       "<Figure size 432x288 with 1 Axes>"
      ]
     },
     "metadata": {
      "needs_background": "light"
     },
     "output_type": "display_data"
    }
   ],
   "source": [
    "# Create a bar chart to compare the models' performance\n",
    "ax  = df_difference.plot.bar(rot = 45)\n",
    "ax.legend(ncol = len(models_reduced.keys()), bbox_to_anchor = (0, 1), loc = 'lower left', prop = {'size': 14})\n",
    "plt.tight_layout()"
   ]
  },
  {
   "cell_type": "markdown",
   "id": "4c684b0a",
   "metadata": {},
   "source": [
    "All models perform better when all predictors are included. This effect is most pronounced in the precision of Naive Bayes, SVM, and the Logistic Regression."
   ]
  }
 ],
 "metadata": {
  "kernelspec": {
   "display_name": "Python 3 (ipykernel)",
   "language": "python",
   "name": "python3"
  },
  "language_info": {
   "codemirror_mode": {
    "name": "ipython",
    "version": 3
   },
   "file_extension": ".py",
   "mimetype": "text/x-python",
   "name": "python",
   "nbconvert_exporter": "python",
   "pygments_lexer": "ipython3",
   "version": "3.9.6"
  }
 },
 "nbformat": 4,
 "nbformat_minor": 5
}
